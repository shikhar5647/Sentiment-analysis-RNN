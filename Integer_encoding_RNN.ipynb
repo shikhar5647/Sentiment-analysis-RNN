{
  "nbformat": 4,
  "nbformat_minor": 0,
  "metadata": {
    "colab": {
      "provenance": []
    },
    "kernelspec": {
      "name": "python3",
      "display_name": "Python 3"
    },
    "language_info": {
      "name": "python"
    }
  },
  "cells": [
    {
      "cell_type": "code",
      "execution_count": 1,
      "metadata": {
        "id": "hsrfSj5p6PV7"
      },
      "outputs": [],
      "source": [
        "import numpy as np"
      ]
    },
    {
      "cell_type": "code",
      "source": [
        "docs=['go india','india india','hip hip huray','bharat mata ki jai','kohli kohli','dhoni dhoni','modiji ki jai','inquilab zindabad']"
      ],
      "metadata": {
        "id": "wRS5Aq206TIK"
      },
      "execution_count": 2,
      "outputs": []
    },
    {
      "cell_type": "code",
      "source": [
        "from keras.preprocessing.text import Tokenizer"
      ],
      "metadata": {
        "id": "NhKtvpTU6aLK"
      },
      "execution_count": 3,
      "outputs": []
    },
    {
      "cell_type": "code",
      "source": [
        "tokenizer=Tokenizer(oov_token='Shikhar')"
      ],
      "metadata": {
        "id": "2SUIqXRx6rmb"
      },
      "execution_count": 4,
      "outputs": []
    },
    {
      "cell_type": "code",
      "source": [
        "tokenizer.fit_on_texts(docs)"
      ],
      "metadata": {
        "id": "dFTHxPSGC3Pn"
      },
      "execution_count": 5,
      "outputs": []
    },
    {
      "cell_type": "code",
      "source": [
        "tokenizer.word_index"
      ],
      "metadata": {
        "colab": {
          "base_uri": "https://localhost:8080/"
        },
        "id": "4Av_TV0fDAbU",
        "outputId": "0944ca0c-324b-4cf3-822e-3b15482fefe1"
      },
      "execution_count": 6,
      "outputs": [
        {
          "output_type": "execute_result",
          "data": {
            "text/plain": [
              "{'Shikhar': 1,\n",
              " 'india': 2,\n",
              " 'hip': 3,\n",
              " 'ki': 4,\n",
              " 'jai': 5,\n",
              " 'kohli': 6,\n",
              " 'dhoni': 7,\n",
              " 'go': 8,\n",
              " 'huray': 9,\n",
              " 'bharat': 10,\n",
              " 'mata': 11,\n",
              " 'modiji': 12,\n",
              " 'inquilab': 13,\n",
              " 'zindabad': 14}"
            ]
          },
          "metadata": {},
          "execution_count": 6
        }
      ]
    },
    {
      "cell_type": "code",
      "source": [
        "len(tokenizer.word_index)"
      ],
      "metadata": {
        "colab": {
          "base_uri": "https://localhost:8080/"
        },
        "id": "nWBIWZxNsaRi",
        "outputId": "7f86b5d6-1af1-4cb7-e333-027905e5edd7"
      },
      "execution_count": 14,
      "outputs": [
        {
          "output_type": "execute_result",
          "data": {
            "text/plain": [
              "14"
            ]
          },
          "metadata": {},
          "execution_count": 14
        }
      ]
    },
    {
      "cell_type": "code",
      "source": [
        "tokenizer.word_counts"
      ],
      "metadata": {
        "colab": {
          "base_uri": "https://localhost:8080/"
        },
        "id": "ff7QfmytDEEu",
        "outputId": "d010ba82-5674-4930-b1dc-5d7cd3cf3184"
      },
      "execution_count": 7,
      "outputs": [
        {
          "output_type": "execute_result",
          "data": {
            "text/plain": [
              "OrderedDict([('go', 1),\n",
              "             ('india', 3),\n",
              "             ('hip', 2),\n",
              "             ('huray', 1),\n",
              "             ('bharat', 1),\n",
              "             ('mata', 1),\n",
              "             ('ki', 2),\n",
              "             ('jai', 2),\n",
              "             ('kohli', 2),\n",
              "             ('dhoni', 2),\n",
              "             ('modiji', 1),\n",
              "             ('inquilab', 1),\n",
              "             ('zindabad', 1)])"
            ]
          },
          "metadata": {},
          "execution_count": 7
        }
      ]
    },
    {
      "cell_type": "code",
      "source": [
        "tokenizer.document_count"
      ],
      "metadata": {
        "colab": {
          "base_uri": "https://localhost:8080/"
        },
        "id": "d037zhBKDTBc",
        "outputId": "02e1742f-5356-46c5-cf5d-914c63ad6db9"
      },
      "execution_count": 8,
      "outputs": [
        {
          "output_type": "execute_result",
          "data": {
            "text/plain": [
              "8"
            ]
          },
          "metadata": {},
          "execution_count": 8
        }
      ]
    },
    {
      "cell_type": "code",
      "source": [
        "sequences=tokenizer.texts_to_sequences(docs)\n",
        "sequences"
      ],
      "metadata": {
        "colab": {
          "base_uri": "https://localhost:8080/"
        },
        "id": "SBp_l526Fqd4",
        "outputId": "f9b17688-dd3e-45be-aa58-e9222ad413a0"
      },
      "execution_count": 9,
      "outputs": [
        {
          "output_type": "execute_result",
          "data": {
            "text/plain": [
              "[[8, 2],\n",
              " [2, 2],\n",
              " [3, 3, 9],\n",
              " [10, 11, 4, 5],\n",
              " [6, 6],\n",
              " [7, 7],\n",
              " [12, 4, 5],\n",
              " [13, 14]]"
            ]
          },
          "metadata": {},
          "execution_count": 9
        }
      ]
    },
    {
      "cell_type": "code",
      "source": [
        "from keras.utils import pad_sequences"
      ],
      "metadata": {
        "id": "eFp-ohQpFyz4"
      },
      "execution_count": 10,
      "outputs": []
    },
    {
      "cell_type": "code",
      "source": [
        "sequences=pad_sequences(sequences,padding='post')"
      ],
      "metadata": {
        "id": "0wXYWJYPGDNR"
      },
      "execution_count": 11,
      "outputs": []
    },
    {
      "cell_type": "code",
      "source": [
        "sequences"
      ],
      "metadata": {
        "colab": {
          "base_uri": "https://localhost:8080/"
        },
        "id": "oOmxKL9GGJ8k",
        "outputId": "81b23a92-0d26-4126-a712-455a4bd45a64"
      },
      "execution_count": 12,
      "outputs": [
        {
          "output_type": "execute_result",
          "data": {
            "text/plain": [
              "array([[ 8,  2,  0,  0],\n",
              "       [ 2,  2,  0,  0],\n",
              "       [ 3,  3,  9,  0],\n",
              "       [10, 11,  4,  5],\n",
              "       [ 6,  6,  0,  0],\n",
              "       [ 7,  7,  0,  0],\n",
              "       [12,  4,  5,  0],\n",
              "       [13, 14,  0,  0]], dtype=int32)"
            ]
          },
          "metadata": {},
          "execution_count": 12
        }
      ]
    },
    {
      "cell_type": "code",
      "source": [
        "sequences.shape"
      ],
      "metadata": {
        "colab": {
          "base_uri": "https://localhost:8080/"
        },
        "id": "FZtoRjXJvNiG",
        "outputId": "1923afa2-893b-42d0-efad-8c183c7b1a18"
      },
      "execution_count": 24,
      "outputs": [
        {
          "output_type": "execute_result",
          "data": {
            "text/plain": [
              "(8, 4)"
            ]
          },
          "metadata": {},
          "execution_count": 24
        }
      ]
    }
  ]
}